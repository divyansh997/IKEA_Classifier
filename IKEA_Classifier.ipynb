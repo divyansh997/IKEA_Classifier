{
 "cells": [
  {
   "cell_type": "raw",
   "metadata": {},
   "source": [
    "This is my directory structure:\n",
    "data/\n",
    "    train/\n",
    "        chairs/\n",
    "            1.jpg\n",
    "            2.jpg\n",
    "            ...\n",
    "        desks/\n",
    "            1.jpg\n",
    "            2.jpg\n",
    "            ...\n",
    "        ...\n",
    "    validate/\n",
    "        chairs/\n",
    "            1.jpg\n",
    "            2.jpg\n",
    "            ...\n",
    "        desks/\n",
    "            1.jpg\n",
    "            2.jpg\n",
    "            ...\n",
    "        ...\n",
    "    ..."
   ]
  },
  {
   "cell_type": "markdown",
   "metadata": {},
   "source": [
    "Importing dependencies: keras, sklearn.metrics, numpy, pandas and matplotlib.pyplot"
   ]
  },
  {
   "cell_type": "code",
   "execution_count": 77,
   "metadata": {},
   "outputs": [],
   "source": [
    "from keras.preprocessing.image import ImageDataGenerator\n",
    "from keras.models import Sequential\n",
    "from keras.layers import Conv2D, MaxPooling2D\n",
    "from keras.layers import Activation, Dropout, Flatten, Dense\n",
    "from keras import backend as K\n",
    "from sklearn.metrics import confusion_matrix\n",
    "import numpy as np\n",
    "import pandas as pd\n",
    "import matplotlib.pyplot as plt"
   ]
  },
  {
   "cell_type": "markdown",
   "metadata": {},
   "source": [
    "Defining necessary parameters for the model."
   ]
  },
  {
   "cell_type": "code",
   "execution_count": 78,
   "metadata": {},
   "outputs": [],
   "source": [
    "image_width = 250 \n",
    "image_height = 250\n",
    "\n",
    "# directories set as defined in cell 1\n",
    "\n",
    "training_directory = 'data/train'\n",
    "validation_directory = 'data/validate'\n",
    "testing_directory = 'data/test'\n",
    "\n",
    "# number of training images vary for each class. number of validation and testing images = 50 for each class\n",
    "# Number of Epochs was chosen randomly:\n",
    "# 40 would be sufficient since we have a small dataset\n",
    "# batch size = 16 since we have a small dataset\n",
    "number_training_imgs = 1038\n",
    "number_validation_imgs = 200\n",
    "epochs = 40\n",
    "batch_size = 16\n",
    "\n",
    "if K.image_data_format() == 'channels_first':\n",
    "    input_shape = (3, image_width, image_height)\n",
    "else:\n",
    "    input_shape = (image_width, image_height, 3)"
   ]
  },
  {
   "cell_type": "markdown",
   "metadata": {},
   "source": [
    "Building the CNN model: I use a sequential model having three convolution layers with ReLU activation followed by max-pooling layers. These layers are followed by two fully connected layers having ReLU and softmax activation."
   ]
  },
  {
   "cell_type": "code",
   "execution_count": 79,
   "metadata": {},
   "outputs": [
    {
     "name": "stdout",
     "output_type": "stream",
     "text": [
      "_________________________________________________________________\n",
      "Layer (type)                 Output Shape              Param #   \n",
      "=================================================================\n",
      "conv2d_82 (Conv2D)           (None, 248, 248, 32)      896       \n",
      "_________________________________________________________________\n",
      "activation_136 (Activation)  (None, 248, 248, 32)      0         \n",
      "_________________________________________________________________\n",
      "max_pooling2d_82 (MaxPooling (None, 124, 124, 32)      0         \n",
      "_________________________________________________________________\n",
      "conv2d_83 (Conv2D)           (None, 122, 122, 32)      9248      \n",
      "_________________________________________________________________\n",
      "activation_137 (Activation)  (None, 122, 122, 32)      0         \n",
      "_________________________________________________________________\n",
      "max_pooling2d_83 (MaxPooling (None, 61, 61, 32)        0         \n",
      "_________________________________________________________________\n",
      "conv2d_84 (Conv2D)           (None, 59, 59, 64)        18496     \n",
      "_________________________________________________________________\n",
      "activation_138 (Activation)  (None, 59, 59, 64)        0         \n",
      "_________________________________________________________________\n",
      "max_pooling2d_84 (MaxPooling (None, 29, 29, 64)        0         \n",
      "_________________________________________________________________\n",
      "flatten_28 (Flatten)         (None, 53824)             0         \n",
      "_________________________________________________________________\n",
      "dense_55 (Dense)             (None, 64)                3444800   \n",
      "_________________________________________________________________\n",
      "activation_139 (Activation)  (None, 64)                0         \n",
      "_________________________________________________________________\n",
      "dropout_28 (Dropout)         (None, 64)                0         \n",
      "_________________________________________________________________\n",
      "dense_56 (Dense)             (None, 4)                 260       \n",
      "_________________________________________________________________\n",
      "activation_140 (Activation)  (None, 4)                 0         \n",
      "=================================================================\n",
      "Total params: 3,473,700\n",
      "Trainable params: 3,473,700\n",
      "Non-trainable params: 0\n",
      "_________________________________________________________________\n",
      "None\n"
     ]
    }
   ],
   "source": [
    "classifier = Sequential()\n",
    "\n",
    "classifier.add(Conv2D(32, (3, 3), input_shape=input_shape))\n",
    "classifier.add(Activation('relu'))\n",
    "classifier.add(MaxPooling2D(pool_size=(2, 2)))\n",
    "\n",
    "classifier.add(Conv2D(32, (3, 3)))\n",
    "classifier.add(Activation('relu'))\n",
    "classifier.add(MaxPooling2D(pool_size=(2, 2)))\n",
    "\n",
    "classifier.add(Conv2D(64, (3, 3)))\n",
    "classifier.add(Activation('relu'))\n",
    "classifier.add(MaxPooling2D(pool_size=(2, 2)))\n",
    "# the model so far outputs 3D feature maps (height, width, features)\n",
    "\n",
    "classifier.add(Flatten())  # this converts our 3D feature maps to 1D feature vectors\n",
    "classifier.add(Dense(64))\n",
    "classifier.add(Activation('relu'))\n",
    "classifier.add(Dropout(0.5))\n",
    "classifier.add(Dense(4))\n",
    "classifier.add(Activation('softmax'))\n",
    "\n",
    "classifier.compile(loss='categorical_crossentropy',\n",
    "              optimizer='adam',\n",
    "              metrics=['accuracy'])\n",
    "\n",
    "print(classifier.summary())"
   ]
  },
  {
   "cell_type": "markdown",
   "metadata": {},
   "source": [
    "I used data-augmentation since I had a few training examples. This helps prevent overfitting since the model never sees the exact same image twice. I used keras.preprocessing.image.ImageDataGenerator class to do this."
   ]
  },
  {
   "cell_type": "code",
   "execution_count": 80,
   "metadata": {},
   "outputs": [],
   "source": [
    "# Augmentation configuration used for training\n",
    "\n",
    "trainingDataGenerator = ImageDataGenerator(\n",
    "    rescale=1. / 255,\n",
    "    shear_range=0.2,\n",
    "    zoom_range=0.2,\n",
    "    horizontal_flip=True)\n",
    "\n",
    "# Augmentation configuration used for validating and testing: only rescaling\n",
    "\n",
    "validationDataGenerator = ImageDataGenerator(rescale=1. / 255)\n",
    "testDataGenerator = ImageDataGenerator(rescale=1./255)"
   ]
  },
  {
   "cell_type": "markdown",
   "metadata": {},
   "source": [
    "Training the model."
   ]
  },
  {
   "cell_type": "code",
   "execution_count": 81,
   "metadata": {},
   "outputs": [
    {
     "name": "stdout",
     "output_type": "stream",
     "text": [
      "Found 1038 images belonging to 4 classes.\n",
      "Found 200 images belonging to 4 classes.\n",
      "Epoch 1/40\n",
      "64/64 [==============================] - 43s 672ms/step - loss: 1.2121 - acc: 0.4492 - val_loss: 0.8314 - val_acc: 0.7760\n",
      "Epoch 2/40\n",
      "64/64 [==============================] - 42s 664ms/step - loss: 0.8833 - acc: 0.6663 - val_loss: 0.7960 - val_acc: 0.8315\n",
      "Epoch 3/40\n",
      "64/64 [==============================] - 44s 691ms/step - loss: 0.8068 - acc: 0.7164 - val_loss: 0.5400 - val_acc: 0.8967\n",
      "Epoch 4/40\n",
      "64/64 [==============================] - 46s 714ms/step - loss: 0.6722 - acc: 0.7688 - val_loss: 0.9413 - val_acc: 0.7554\n",
      "Epoch 5/40\n",
      "64/64 [==============================] - 46s 716ms/step - loss: 0.6429 - acc: 0.7633 - val_loss: 0.4708 - val_acc: 0.8967\n",
      "Epoch 6/40\n",
      "64/64 [==============================] - 48s 754ms/step - loss: 0.5564 - acc: 0.8051 - val_loss: 0.4005 - val_acc: 0.9022\n",
      "Epoch 7/40\n",
      "64/64 [==============================] - 50s 784ms/step - loss: 0.6970 - acc: 0.7398 - val_loss: 0.5568 - val_acc: 0.8370\n",
      "Epoch 8/40\n",
      "64/64 [==============================] - 53s 831ms/step - loss: 0.5662 - acc: 0.8012 - val_loss: 0.3962 - val_acc: 0.8696\n",
      "Epoch 9/40\n",
      "64/64 [==============================] - 51s 801ms/step - loss: 0.4815 - acc: 0.8121 - val_loss: 0.4767 - val_acc: 0.8587\n",
      "Epoch 10/40\n",
      "64/64 [==============================] - 52s 818ms/step - loss: 0.4664 - acc: 0.8393 - val_loss: 0.5239 - val_acc: 0.8533\n",
      "Epoch 11/40\n",
      "64/64 [==============================] - 54s 847ms/step - loss: 0.4645 - acc: 0.8344 - val_loss: 0.3407 - val_acc: 0.9022\n",
      "Epoch 12/40\n",
      "64/64 [==============================] - 51s 799ms/step - loss: 0.4053 - acc: 0.8563 - val_loss: 0.5541 - val_acc: 0.8478\n",
      "Epoch 13/40\n",
      "64/64 [==============================] - 54s 838ms/step - loss: 0.4083 - acc: 0.8525 - val_loss: 0.4816 - val_acc: 0.8533\n",
      "Epoch 14/40\n",
      "64/64 [==============================] - 56s 875ms/step - loss: 0.4294 - acc: 0.8482 - val_loss: 0.4721 - val_acc: 0.8698\n",
      "Epoch 15/40\n",
      "64/64 [==============================] - 52s 819ms/step - loss: 0.4146 - acc: 0.8447 - val_loss: 0.4870 - val_acc: 0.8587\n",
      "Epoch 16/40\n",
      "64/64 [==============================] - 47s 742ms/step - loss: 0.3292 - acc: 0.8884 - val_loss: 0.3673 - val_acc: 0.8859\n",
      "Epoch 17/40\n",
      "64/64 [==============================] - 47s 727ms/step - loss: 0.3679 - acc: 0.8719 - val_loss: 0.4659 - val_acc: 0.8859\n",
      "Epoch 18/40\n",
      "64/64 [==============================] - 47s 735ms/step - loss: 0.3167 - acc: 0.8934 - val_loss: 0.5005 - val_acc: 0.8913\n",
      "Epoch 19/40\n",
      "64/64 [==============================] - 47s 739ms/step - loss: 0.3201 - acc: 0.8973 - val_loss: 0.3098 - val_acc: 0.9185\n",
      "Epoch 20/40\n",
      "64/64 [==============================] - 47s 727ms/step - loss: 0.2940 - acc: 0.8983 - val_loss: 0.2961 - val_acc: 0.9076\n",
      "Epoch 21/40\n",
      "64/64 [==============================] - 45s 709ms/step - loss: 0.3020 - acc: 0.9003 - val_loss: 0.3433 - val_acc: 0.9022\n",
      "Epoch 22/40\n",
      "64/64 [==============================] - 45s 705ms/step - loss: 0.3004 - acc: 0.8876 - val_loss: 0.4099 - val_acc: 0.8804\n",
      "Epoch 23/40\n",
      "64/64 [==============================] - 44s 688ms/step - loss: 0.4009 - acc: 0.8592 - val_loss: 0.3042 - val_acc: 0.8967\n",
      "Epoch 24/40\n",
      "64/64 [==============================] - 45s 707ms/step - loss: 0.2530 - acc: 0.9069 - val_loss: 0.3886 - val_acc: 0.9185\n",
      "Epoch 25/40\n",
      "64/64 [==============================] - 44s 689ms/step - loss: 0.2980 - acc: 0.8816 - val_loss: 0.2858 - val_acc: 0.9130\n",
      "Epoch 26/40\n",
      "64/64 [==============================] - 45s 706ms/step - loss: 0.2182 - acc: 0.9131 - val_loss: 0.4275 - val_acc: 0.9130\n",
      "Epoch 27/40\n",
      "64/64 [==============================] - 43s 667ms/step - loss: 0.2178 - acc: 0.9216 - val_loss: 0.2823 - val_acc: 0.9427\n",
      "Epoch 28/40\n",
      "64/64 [==============================] - 43s 665ms/step - loss: 0.2357 - acc: 0.9255 - val_loss: 0.3055 - val_acc: 0.9348\n",
      "Epoch 29/40\n",
      "64/64 [==============================] - 44s 694ms/step - loss: 0.1928 - acc: 0.9315 - val_loss: 0.1804 - val_acc: 0.9402\n",
      "Epoch 30/40\n",
      "64/64 [==============================] - 44s 687ms/step - loss: 0.1946 - acc: 0.9315 - val_loss: 0.3811 - val_acc: 0.9076\n",
      "Epoch 31/40\n",
      "64/64 [==============================] - 42s 661ms/step - loss: 0.1858 - acc: 0.9354 - val_loss: 0.4445 - val_acc: 0.9185\n",
      "Epoch 32/40\n",
      "64/64 [==============================] - 44s 686ms/step - loss: 0.1812 - acc: 0.9325 - val_loss: 0.1448 - val_acc: 0.9511\n",
      "Epoch 33/40\n",
      "64/64 [==============================] - 43s 668ms/step - loss: 0.2195 - acc: 0.9149 - val_loss: 0.3305 - val_acc: 0.9293\n",
      "Epoch 34/40\n",
      "64/64 [==============================] - 44s 685ms/step - loss: 0.1850 - acc: 0.9375 - val_loss: 0.4192 - val_acc: 0.9293\n",
      "Epoch 35/40\n",
      "64/64 [==============================] - 45s 704ms/step - loss: 0.1691 - acc: 0.9385 - val_loss: 0.4373 - val_acc: 0.9130\n",
      "Epoch 36/40\n",
      "64/64 [==============================] - 45s 706ms/step - loss: 0.2181 - acc: 0.9185 - val_loss: 0.3019 - val_acc: 0.9185\n",
      "Epoch 37/40\n",
      "64/64 [==============================] - 43s 669ms/step - loss: 0.1583 - acc: 0.9382 - val_loss: 0.3584 - val_acc: 0.9348\n",
      "Epoch 38/40\n",
      "64/64 [==============================] - 43s 665ms/step - loss: 0.1614 - acc: 0.9392 - val_loss: 0.4735 - val_acc: 0.9239\n",
      "Epoch 39/40\n",
      "64/64 [==============================] - 43s 673ms/step - loss: 0.1915 - acc: 0.9375 - val_loss: 0.3453 - val_acc: 0.9348\n",
      "Epoch 40/40\n",
      "64/64 [==============================] - 43s 674ms/step - loss: 0.1911 - acc: 0.9198 - val_loss: 0.2345 - val_acc: 0.9375\n"
     ]
    }
   ],
   "source": [
    "training_generator = trainingDataGenerator.flow_from_directory(\n",
    "    training_directory,\n",
    "    target_size=(image_width, image_height), # all images resized to 250 x 250\n",
    "    batch_size=batch_size,\n",
    "    class_mode='categorical') # we need categorical labels for categorical_crossentropy loss\n",
    "\n",
    "validation_generator = validationDataGenerator.flow_from_directory(\n",
    "    validation_directory,\n",
    "    target_size=(image_width, image_height),\n",
    "    batch_size=batch_size,\n",
    "    class_mode='categorical')\n",
    "\n",
    "classifier.fit_generator(\n",
    "    training_generator,\n",
    "    steps_per_epoch=number_training_imgs // batch_size,\n",
    "    epochs=epochs,\n",
    "    validation_data=validation_generator,\n",
    "    validation_steps=number_validation_imgs // batch_size)\n",
    "\n",
    "classifier.save_weights('weights.h5') #save computed weights"
   ]
  },
  {
   "cell_type": "markdown",
   "metadata": {},
   "source": [
    "Testing the fitted model and generating predicted labels + filenames to find out what got predicted for each testing image."
   ]
  },
  {
   "cell_type": "code",
   "execution_count": 82,
   "metadata": {},
   "outputs": [
    {
     "name": "stdout",
     "output_type": "stream",
     "text": [
      "Found 200 images belonging to 4 classes.\n"
     ]
    }
   ],
   "source": [
    "test_generator = testDataGenerator.flow_from_directory(\n",
    "        testing_directory,\n",
    "        target_size=(250, 250),\n",
    "        color_mode=\"rgb\",\n",
    "        shuffle = False,\n",
    "        class_mode='categorical',\n",
    "        batch_size=1)\n",
    "\n",
    "filenames = test_generator.filenames #generate filenames\n",
    "number_of_samples = len(filenames)\n",
    "\n",
    "index=0\n",
    "\n",
    "image, label = test_generator._get_batches_of_transformed_samples(np.array([index]))\n",
    "image_name = test_generator.filenames[index]\n",
    "\n",
    "test_generator.reset()\n",
    "\n",
    "predict = classifier.predict_generator(test_generator,steps = number_of_samples)\n",
    "predicted_class_indices=np.argmax(predict,axis=1) # predicted_class_indices contains predicted labels(0,1,2,3)\n",
    "\n",
    "labels = (training_generator.class_indices)\n",
    "labels = dict((v,k) for k,v in labels.items())\n",
    "predictions = [labels[k] for k in predicted_class_indices]"
   ]
  },
  {
   "cell_type": "markdown",
   "metadata": {},
   "source": [
    "Generating the confusion matrix. "
   ]
  },
  {
   "cell_type": "code",
   "execution_count": 83,
   "metadata": {},
   "outputs": [
    {
     "data": {
      "image/png": "[encoded data removed]",
      "text/plain": [
       "<Figure size 432x288 with 2 Axes>"
      ]
     },
     "metadata": {
      "needs_background": "light"
     },
     "output_type": "display_data"
    }
   ],
   "source": [
    "y_true = np.array([0] * 50 + [1] * 50 + [2] * 50 + [3] * 50) # since we have 50 test images belonging to each class\n",
    "y_pred = predicted_class_indices\n",
    "con_mat = confusion_matrix(y_true, y_pred)\n",
    "\n",
    "norm_conf = []\n",
    "\n",
    "for i in con_mat:\n",
    "    a = 0\n",
    "    tmp_arr = []\n",
    "    a = sum(i, 0)\n",
    "    for j in i:\n",
    "        tmp_arr.append(float(j)/float(a))\n",
    "    norm_conf.append(tmp_arr)\n",
    "\n",
    "fig = plt.figure()\n",
    "plt.clf()\n",
    "ax = fig.add_subplot(111)\n",
    "ax.set_aspect(1)\n",
    "res = ax.imshow(np.array(norm_conf), cmap=plt.cm.jet, \n",
    "                interpolation='nearest')\n",
    "\n",
    "width, height = con_mat.shape\n",
    "\n",
    "for x in xrange(width):\n",
    "    for y in xrange(height):\n",
    "        ax.annotate(str(con_mat[x][y]), xy=(y, x), \n",
    "                    horizontalalignment='center',\n",
    "                    verticalalignment='center')\n",
    "\n",
    "\n",
    "cb = fig.colorbar(res)\n",
    "\n",
    "plt.xlabel(\"Predicted labels\")\n",
    "plt.ylabel(\"True labels\")\n",
    "plt.title('Confusion matrix ')\n",
    "plt.xticks(np.arange(0,4), ['Beds', 'Cabinets', 'Chairs', 'Desks'])\n",
    "plt.yticks(np.arange(0,4), ['Beds', 'Cabinets', 'Chairs', 'Desks'])\n",
    "plt.savefig('confusion_matrix.png', format='png')\n",
    "plt.show()"
   ]
  },
  {
   "cell_type": "markdown",
   "metadata": {},
   "source": [
    "Here I output the predicted results for each image into a CSV file."
   ]
  },
  {
   "cell_type": "code",
   "execution_count": 84,
   "metadata": {},
   "outputs": [],
   "source": [
    "filenames=test_generator.filenames\n",
    "results=pd.DataFrame({\"Filename\":filenames,\n",
    "                      \"Predictions\":predictions})\n",
    "results.to_csv(\"results.csv\",index=False)\n"
   ]
  }
 ],
 "metadata": {
  "kernelspec": {
   "display_name": "Python 3",
   "language": "python",
   "name": "python3"
  },
  "language_info": {
   "codemirror_mode": {
    "name": "ipython",
    "version": 2
   },
   "file_extension": ".py",
   "mimetype": "text/x-python",
   "name": "python",
   "nbconvert_exporter": "python",
   "pygments_lexer": "ipython2",
   "version": "2.7.15rc1"
  }
 },
 "nbformat": 4,
 "nbformat_minor": 2
}
